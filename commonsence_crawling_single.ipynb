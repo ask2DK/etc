{
 "cells": [
  {
   "attachments": {},
   "cell_type": "markdown",
   "metadata": {},
   "source": [
    "0405(수)"
   ]
  },
  {
   "cell_type": "code",
   "execution_count": 1,
   "metadata": {},
   "outputs": [],
   "source": [
    "from inspect import getfile\n",
    "import os\n",
    "import re\n",
    "from urllib import request\n",
    "from urllib.error import HTTPError\n",
    "from bs4 import BeautifulSoup\n",
    "import requests\n",
    "\n",
    "def get_download(url, fname, directory):\n",
    "    try:\n",
    "        os.chdir(directory)\n",
    "        request.urlretrieve(url,f'{fname}.pdf')\n",
    "        print('다운로드 완료\\n')\n",
    "    except HTTPError as e:\n",
    "        print('error')\n",
    "        return"
   ]
  },
  {
   "cell_type": "code",
   "execution_count": 2,
   "metadata": {},
   "outputs": [],
   "source": [
    "# 크롤링할 url\n",
    "page_url = \"https://legendstudy.com/category/%E2%97%86%EF%BB%BF%20%22%EA%B3%A02%22%EB%A5%BC%20%EC%9C%84%ED%95%9C%20%EA%B3%B5%EA%B0%84%20/2%ED%95%99%EB%85%84%20%EB%AA%A8%EC%9D%98%EA%B3%A0%EC%82%AC%20%EC%A0%84%EA%B3%BC%EB%AA%A9%20%EC%9E%90%EB%A3%8C?page=\"\n",
    "pageoffset = 1\n",
    "# 다운을 위한 주소 변수\n",
    "home_site = \"https://legendstudy.com\""
   ]
  },
  {
   "cell_type": "code",
   "execution_count": 3,
   "metadata": {},
   "outputs": [
    {
     "data": {
      "text/plain": [
       "[<a href=\"/1506\">→ 2022년 11월 고2 모의고사 기출 - 문제, 답, 해설, 등급컷, 영어듣기 - 국어/영어/수학/사탐/과탐</a>,\n",
       " <a href=\"/1504\">→ 2022년 9월 고2 모의고사 기출 - 문제, 답, 해설, 등급컷, 영어듣기 - 국어/영어/수학/사탐/과탐</a>,\n",
       " <a href=\"/1499\">→ 2022년 6월 고2 모의고사 기출 - 문제, 답, 해설, 등급컷, 영어듣기 : 국어/영어/수학/사탐/과탐</a>,\n",
       " <a href=\"/1496\">→ 2022년 3월 고2 모의고사 기출 - 문제, 답, 해설, 등급컷, 영어듣기 : 국어/영어/수학/사탐/과탐</a>,\n",
       " <a href=\"/1490\">→ 2021년 11월 고2 모의고사 문제, 답, 해설, 등급컷, 영어듣기 - 국어/영어/수학/한국사/사탐/과탐</a>,\n",
       " <a href=\"/1489\">→ 2021년 9월 고2 모의고사 문제, 답, 해설, 등급컷, 영어듣기 - 국어/영어/수학/한국사/사탐/과탐</a>,\n",
       " <a href=\"/1488\">→ 2021년 6월 고2 모의고사 문제, 답, 해설, 등급컷, 영어듣기 - 국어/영어/수학/한국사/사탐/과탐</a>,\n",
       " <a href=\"/1480\">→ 2021년 3월 고2 모의고사 문제, 답, 해설, 등급컷, 영어듣기 - 국어/영어/수학/한국사/탐구</a>,\n",
       " <a href=\"/1444\">→ 2020년 11월 고2 모의고사 문제, 답, 해설, 등급컷, 영어듣기 - 국어/영어/수학/한국사/탐구</a>,\n",
       " <a href=\"/1442\">→ 2020년 9월 고2 모의고사 문제, 답, 해설, 등급컷, 영어듣기 - 국어/영어/수학/한국사/탐구</a>,\n",
       " <a href=\"/1440\">→ 2020년 6월 고2 모의고사 문제, 답, 해설, 등급, 영어듣기 - 국어/영어/수학/한국사/탐구</a>,\n",
       " <a href=\"/1438\">→ 2020년 3월 고2 모의고사 문제, 답, 해설, 등급, 영어듣기 - 국어/영어/수학/한국사/탐구</a>,\n",
       " <a href=\"/1419\">→ 2019년 11월 고2 모의고사 문제, 답, 해설, 등급, 영어듣기 - 국어/영어/수학/한국사/탐구</a>,\n",
       " <a href=\"/1415\">→ 2019년 9월 고2 모의고사 문제, 답, 해설, 등급, 영어듣기 - 국어/영어/수학/한국사/탐구</a>,\n",
       " <a href=\"/1414\">→ 2019년 6월 고2 모의고사 문제, 답, 해설, 등급, 영어듣기 - 국어/영어/수학/한국사/사회,과학탐구</a>,\n",
       " <a href=\"/1390\">→ 2019년 3월 고2 모의고사 문제, 답, 해설, 영어듣기 - 국어/영어/수학/한국사/사탐/과탐</a>,\n",
       " <a href=\"/1374\">→ 2018년 11월 고2 모의고사 문제, 답, 해설, 영어듣기 - 국어/영어/수학/한국사/사탐/과탐</a>,\n",
       " <a href=\"/1340\">→ 2018년 9월 고2 모의고사 문제, 답, 해설, 영어듣기 - 국어/영어/수학/한국사/사탐/과탐</a>,\n",
       " <a href=\"/1281\">→ 2018년 6월 고2 모의고사 문제, 답, 해설, 영어듣기 - 국어/영어/수학/한국사/사탐/과탐</a>,\n",
       " <a href=\"/1252\">→ 2018년 3월 고2 모의고사 문제, 답, 해설, 듣기 - 국어/영어/수학/사회/과학</a>,\n",
       " <a href=\"/1233\">→ 2017년 11월 고2 모의고사 문제, 답, 해설, 등급, 영어듣기 - 국어/수학/영어/사탐/과탐</a>,\n",
       " <a href=\"/1191\">→ 2017년 9월 고2 모의고사 문제, 답, 해설, 등급, 영어듣기 - 국어/수학/영어/사탐/과탐</a>,\n",
       " <a href=\"/1122\">→ 2017년 6월 고2 모의고사 문제, 답, 해설, 등급, 영어듣기 - 수학/국어/영어/사탐/과탐</a>,\n",
       " <a href=\"/1087\">→ 2017년 3월 고2 모의고사 수학/국어/영어/사탐/과탐 - 문제, 답, 해설, 등급컷, 영어듣기</a>,\n",
       " <a href=\"/1084\">→ 2008년 5월 고2 모의고사 문제, 답, 해설 - 국어/영어/수학/사탐/과탐</a>,\n",
       " <a href=\"/1053\">→ 2016년 11월 고2 모의고사 문제, 답, 해설, 등급, 영어듣기 - 국어/영어/수학/사탐/과탐</a>,\n",
       " <a href=\"/1005\">→ 2016년 9월 고2 모의고사 문제, 답, 해설, 등급, 영어듣기 - 국어/영어/수학/사탐/과탐</a>,\n",
       " <a href=\"/962\">→ 2016년 6월 고2 모의고사 문제, 답, 해설, 등급컷, 영어듣기 : PDF파일</a>,\n",
       " <a href=\"/916\">→ 2016년 3월 고2 모의고사 문제, 답, 해설, 등급, 영어듣기 - 국어/영어/수학/사회/과학 : hwp한글파일</a>,\n",
       " <a href=\"/913\">▶ 2016년 3월 고2 모의고사 문제, 답, 해설, 등급컷, 영어듣기 - 국어/영어/수학/사탐/과탐 : PDF파일</a>]"
      ]
     },
     "execution_count": 3,
     "metadata": {},
     "output_type": "execute_result"
    }
   ],
   "source": [
    "respond = requests.get(page_url+str(pageoffset))\n",
    "soup = BeautifulSoup(respond.text, \"html.parser\")\n",
    "# posts : 해당 url의 게시물 리스트\n",
    "posts = soup.select(\"#jbContent > div.jbSearchResult > ul > li > span > a\")\n",
    "posts"
   ]
  },
  {
   "attachments": {},
   "cell_type": "markdown",
   "metadata": {},
   "source": [
    "### **Single TEST**"
   ]
  },
  {
   "cell_type": "code",
   "execution_count": 4,
   "metadata": {},
   "outputs": [
    {
     "data": {
      "text/plain": [
       "'→ 2022년 11월 고2 모의고사 기출 - 문제, 답, 해설, 등급컷, 영어듣기 - 국어/영어/수학/사탐/과탐'"
      ]
     },
     "execution_count": 4,
     "metadata": {},
     "output_type": "execute_result"
    }
   ],
   "source": [
    "# post_title(str) : 첫번째 게시글의 제목\n",
    "post_title = posts[0].get_text()\n",
    "post_title"
   ]
  },
  {
   "cell_type": "code",
   "execution_count": 5,
   "metadata": {},
   "outputs": [
    {
     "data": {
      "text/plain": [
       "'/1506'"
      ]
     },
     "execution_count": 5,
     "metadata": {},
     "output_type": "execute_result"
    }
   ],
   "source": [
    "# post_num(str) : 첫번째 게시글로 이동할 수 있는 href 번호\n",
    "post_num = posts[0].get('href')\n",
    "post_num"
   ]
  },
  {
   "cell_type": "code",
   "execution_count": 6,
   "metadata": {},
   "outputs": [
    {
     "data": {
      "text/plain": [
       "'https://legendstudy.com/1506'"
      ]
     },
     "execution_count": 6,
     "metadata": {},
     "output_type": "execute_result"
    }
   ],
   "source": [
    "# post_in(str) : home_site 주소에 href 번호를 더하면 첫번째 게시글 주소\n",
    "post_in = home_site+post_num\n",
    "post_in"
   ]
  },
  {
   "cell_type": "code",
   "execution_count": 18,
   "metadata": {},
   "outputs": [
    {
     "data": {
      "text/plain": [
       "[<a class=\"\" href=\"https://blog.kakaocdn.net/dn/ehzXb3/btrUMQONLIN/RYR5kHRQz60dyPnuomTGeK/2022%EB%85%84%2011%EC%9B%94%20%EA%B3%A02%20%EB%AA%A8%EC%9D%98%EA%B3%A0%EC%82%AC_%EA%B5%AD%EC%96%B4%20%EB%AC%B8%EC%A0%9C.pdf?attach=1&amp;knm=tfile.pdf\">\n",
       " <div class=\"image\"></div>\n",
       " <div class=\"desc\"><div class=\"filename\"><span class=\"name\">2022년 11월 고2 모의고사_국어 문제.pdf</span></div>\n",
       " <div class=\"size\">0.57MB</div>\n",
       " </div>\n",
       " </a>,\n",
       " <a class=\"\" href=\"https://blog.kakaocdn.net/dn/q80Vj/btrUDhubpYB/B3mXbnpbYUtKOvmhAVNWYk/2022%EB%85%84%2011%EC%9B%94%20%EA%B3%A02%20%EB%AA%A8%EC%9D%98%EA%B3%A0%EC%82%AC_%EA%B5%AD%EC%96%B4%20%EC%A0%95%EB%8B%B5%2C%ED%95%B4%EC%84%A4.pdf?attach=1&amp;knm=tfile.pdf\">\n",
       " <div class=\"image\"></div>\n",
       " <div class=\"desc\"><div class=\"filename\"><span class=\"name\">2022년 11월 고2 모의고사_국어 정답,해설.pdf</span></div>\n",
       " <div class=\"size\">0.29MB</div>\n",
       " </div>\n",
       " </a>,\n",
       " <a class=\"\" href=\"https://blog.kakaocdn.net/dn/b2e0pu/btrUEvZWzZY/CdaPKDkH2Kf2krFL5Ezia0/2022%EB%85%84%2011%EC%9B%94%20%EA%B3%A02%20%EB%AA%A8%EC%9D%98%EA%B3%A0%EC%82%AC_%EC%88%98%ED%95%99%20%EB%AC%B8%EC%A0%9C.pdf?attach=1&amp;knm=tfile.pdf\">\n",
       " <div class=\"image\"></div>\n",
       " <div class=\"desc\"><div class=\"filename\"><span class=\"name\">2022년 11월 고2 모의고사_수학 문제.pdf</span></div>\n",
       " <div class=\"size\">0.20MB</div>\n",
       " </div>\n",
       " </a>,\n",
       " <a class=\"\" href=\"https://blog.kakaocdn.net/dn/dcnfgP/btrUEvZWzVX/0XxvEp1V49H3D4Pol31bLk/2022%EB%85%84%2011%EC%9B%94%20%EA%B3%A02%20%EB%AA%A8%EC%9D%98%EA%B3%A0%EC%82%AC_%EC%88%98%ED%95%99%20%EC%A0%95%EB%8B%B5%2C%ED%95%B4%EC%84%A4.pdf?attach=1&amp;knm=tfile.pdf\">\n",
       " <div class=\"image\"></div>\n",
       " <div class=\"desc\"><div class=\"filename\"><span class=\"name\">2022년 11월 고2 모의고사_수학 정답,해설.pdf</span></div>\n",
       " <div class=\"size\">0.23MB</div>\n",
       " </div>\n",
       " </a>,\n",
       " <a class=\"\" href=\"https://blog.kakaocdn.net/dn/bsrJMv/btrUGHsl7sj/H9Z1hZLLh7LsrPwK2Km3aK/2022%EB%85%84%2011%EC%9B%94%20%EA%B3%A02%20%EB%AA%A8%EC%9D%98%EA%B3%A0%EC%82%AC_%EC%98%81%EC%96%B4%20%EB%AC%B8%EC%A0%9C.pdf?attach=1&amp;knm=tfile.pdf\">\n",
       " <div class=\"image\"></div>\n",
       " <div class=\"desc\"><div class=\"filename\"><span class=\"name\">2022년 11월 고2 모의고사_영어 문제.pdf</span></div>\n",
       " <div class=\"size\">5.98MB</div>\n",
       " </div>\n",
       " </a>,\n",
       " <a class=\"\" href=\"https://blog.kakaocdn.net/dn/dJXim2/btrUKl9Eabx/fCef9nXvkSv0VNk6TGZbEK/2022%EB%85%84%2011%EC%9B%94%20%EA%B3%A02%20%EB%AA%A8%EC%9D%98%EA%B3%A0%EC%82%AC_%EC%98%81%EC%96%B4%20%EC%A0%95%EB%8B%B5%2C%ED%95%B4%EC%84%A4.pdf?attach=1&amp;knm=tfile.pdf\">\n",
       " <div class=\"image\"></div>\n",
       " <div class=\"desc\"><div class=\"filename\"><span class=\"name\">2022년 11월 고2 모의고사_영어 정답,해설.pdf</span></div>\n",
       " <div class=\"size\">0.30MB</div>\n",
       " </div>\n",
       " </a>,\n",
       " <a class=\"\" href=\"https://blog.kakaocdn.net/dn/cmBPSJ/btrUE49cxwU/W0m0JK9XAnIoZIgctwiEk0/2022%EB%85%84%2011%EC%9B%94%20%EA%B3%A02%20%EB%AA%A8%EC%9D%98%EA%B3%A0%EC%82%AC_%EC%98%81%EC%96%B4%20%EB%93%A3%EA%B8%B0%EB%8C%80%EB%B3%B8.pdf?attach=1&amp;knm=tfile.pdf\">\n",
       " <div class=\"image\"></div>\n",
       " <div class=\"desc\"><div class=\"filename\"><span class=\"name\">2022년 11월 고2 모의고사_영어 듣기대본.pdf</span></div>\n",
       " <div class=\"size\">0.12MB</div>\n",
       " </div>\n",
       " </a>,\n",
       " <a class=\"\" href=\"https://app.box.com/s/zj3dh5d0nlxu5xeafo5fmg1pv25ogm8s\">\n",
       " <div class=\"image\"></div>\n",
       " <div class=\"desc\"><div class=\"filename\"><span class=\"name\">2022년 11월 고2 모의고사_한국사 문제.pdf</span></div>\n",
       " <div class=\"size\">0.73MB</div>\n",
       " </div>\n",
       " </a>,\n",
       " <a class=\"\" href=\"https://blog.kakaocdn.net/dn/kKeUW/btrUKl2SaOP/gcv7gL9k5WKNfUuKqxnP50/2022%EB%85%84%2011%EC%9B%94%20%EA%B3%A02%20%EB%AA%A8%EC%9D%98%EA%B3%A0%EC%82%AC_%ED%95%9C%EA%B5%AD%EC%82%AC%20%EC%A0%95%EB%8B%B5%2C%ED%95%B4%EC%84%A4.pdf?attach=1&amp;knm=tfile.pdf\">\n",
       " <div class=\"image\"></div>\n",
       " <div class=\"desc\"><div class=\"filename\"><span class=\"name\">2022년 11월 고2 모의고사_한국사 정답,해설.pdf</span></div>\n",
       " <div class=\"size\">0.16MB</div>\n",
       " </div>\n",
       " </a>,\n",
       " <a class=\"\" href=\"https://blog.kakaocdn.net/dn/dpaUVM/btrUHRBtrGG/DvPEz5MTlzTasL4MIGXpY0/2022%EB%85%84%2011%EC%9B%94%20%EA%B3%A02%20%EA%B3%BC%ED%83%90_%EB%AC%BC%EB%A6%AC%ED%95%991%20%EB%AC%B8%EC%A0%9C.pdf?attach=1&amp;knm=tfile.pdf\">\n",
       " <div class=\"image\"></div>\n",
       " <div class=\"desc\"><div class=\"filename\"><span class=\"name\">2022년 11월 고2 과탐_물리학1 문제.pdf</span></div>\n",
       " <div class=\"size\">0.59MB</div>\n",
       " </div>\n",
       " </a>,\n",
       " <a class=\"\" href=\"https://blog.kakaocdn.net/dn/k8muu/btrUAcGFJH8/YR3UMkmizFyGiQfsqvpzd0/2022%EB%85%84%2011%EC%9B%94%20%EA%B3%A02%20%EA%B3%BC%ED%83%90_%EB%AC%BC%EB%A6%AC%ED%95%991%20%EC%A0%95%EB%8B%B5%2C%ED%95%B4%EC%84%A4.pdf?attach=1&amp;knm=tfile.pdf\">\n",
       " <div class=\"image\"></div>\n",
       " <div class=\"desc\"><div class=\"filename\"><span class=\"name\">2022년 11월 고2 과탐_물리학1 정답,해설.pdf</span></div>\n",
       " <div class=\"size\">0.20MB</div>\n",
       " </div>\n",
       " </a>,\n",
       " <a class=\"\" href=\"https://blog.kakaocdn.net/dn/bEYVCq/btrUHNZ5zP8/6ppEScLrOZkSaQjYnejAC1/2022%EB%85%84%2011%EC%9B%94%20%EA%B3%A02%20%EA%B3%BC%ED%83%90_%EC%83%9D%EB%AA%85%EA%B3%BC%ED%95%991%20%EB%AC%B8%EC%A0%9C.pdf?attach=1&amp;knm=tfile.pdf\">\n",
       " <div class=\"image\"></div>\n",
       " <div class=\"desc\"><div class=\"filename\"><span class=\"name\">2022년 11월 고2 과탐_생명과학1 문제.pdf</span></div>\n",
       " <div class=\"size\">0.87MB</div>\n",
       " </div>\n",
       " </a>,\n",
       " <a class=\"\" href=\"https://blog.kakaocdn.net/dn/nozs9/btrUJiL6Pa1/VT1kxKZ8nk56EKVgONmkp0/2022%EB%85%84%2011%EC%9B%94%20%EA%B3%A02%20%EA%B3%BC%ED%83%90_%EC%83%9D%EB%AA%85%EA%B3%BC%ED%95%991%20%EC%A0%95%EB%8B%B5%2C%ED%95%B4%EC%84%A4.pdf?attach=1&amp;knm=tfile.pdf\">\n",
       " <div class=\"image\"></div>\n",
       " <div class=\"desc\"><div class=\"filename\"><span class=\"name\">2022년 11월 고2 과탐_생명과학1 정답,해설.pdf</span></div>\n",
       " <div class=\"size\">0.23MB</div>\n",
       " </div>\n",
       " </a>,\n",
       " <a class=\"\" href=\"https://blog.kakaocdn.net/dn/cvuCJk/btrUAcGFJLw/QtooqJ3grw9pINc8jHNIY0/2022%EB%85%84%2011%EC%9B%94%20%EA%B3%A02%20%EA%B3%BC%ED%83%90_%EC%A7%80%EA%B5%AC%EA%B3%BC%ED%95%991%20%EB%AC%B8%EC%A0%9C.pdf?attach=1&amp;knm=tfile.pdf\">\n",
       " <div class=\"image\"></div>\n",
       " <div class=\"desc\"><div class=\"filename\"><span class=\"name\">2022년 11월 고2 과탐_지구과학1 문제.pdf</span></div>\n",
       " <div class=\"size\">0.77MB</div>\n",
       " </div>\n",
       " </a>,\n",
       " <a class=\"\" href=\"https://blog.kakaocdn.net/dn/IsRWd/btrUL8vpwFX/DRc1NIZ3PsKv5zHmeYVNg0/2022%EB%85%84%2011%EC%9B%94%20%EA%B3%A02%20%EA%B3%BC%ED%83%90_%EC%A7%80%EA%B5%AC%EA%B3%BC%ED%95%991%20%EC%A0%95%EB%8B%B5%2C%ED%95%B4%EC%84%A4.pdf?attach=1&amp;knm=tfile.pdf\">\n",
       " <div class=\"image\"></div>\n",
       " <div class=\"desc\"><div class=\"filename\"><span class=\"name\">2022년 11월 고2 과탐_지구과학1 정답,해설.pdf</span></div>\n",
       " <div class=\"size\">0.20MB</div>\n",
       " </div>\n",
       " </a>,\n",
       " <a class=\"\" href=\"https://blog.kakaocdn.net/dn/oixTr/btrUAa9TdH5/rlnZTgKOGKP1yH2nJjlKK1/2022%EB%85%84%2011%EC%9B%94%20%EA%B3%A02%20%EA%B3%BC%ED%83%90_%ED%99%94%ED%95%991%20%EB%AC%B8%EC%A0%9C.pdf?attach=1&amp;knm=tfile.pdf\">\n",
       " <div class=\"image\"></div>\n",
       " <div class=\"desc\"><div class=\"filename\"><span class=\"name\">2022년 11월 고2 과탐_화학1 문제.pdf</span></div>\n",
       " <div class=\"size\">0.35MB</div>\n",
       " </div>\n",
       " </a>,\n",
       " <a class=\"\" href=\"https://blog.kakaocdn.net/dn/IYV6K/btrULNrjnno/XEKk75bkdNLhgwyUpvkYJ0/2022%EB%85%84%2011%EC%9B%94%20%EA%B3%A02%20%EA%B3%BC%ED%83%90_%ED%99%94%ED%95%991%20%EC%A0%95%EB%8B%B5%2C%ED%95%B4%EC%84%A4.pdf?attach=1&amp;knm=tfile.pdf\">\n",
       " <div class=\"image\"></div>\n",
       " <div class=\"desc\"><div class=\"filename\"><span class=\"name\">2022년 11월 고2 과탐_화학1 정답,해설.pdf</span></div>\n",
       " <div class=\"size\">0.21MB</div>\n",
       " </div>\n",
       " </a>,\n",
       " <a class=\"\" href=\"https://blog.kakaocdn.net/dn/CyPXB/btrUIZsfU8L/LWdslK7ArMH4nmSAHqkXNk/2022%EB%85%84%2011%EC%9B%94%20%EA%B3%A02%20%EC%82%AC%ED%83%90_%EA%B2%BD%EC%A0%9C%20%EB%AC%B8%EC%A0%9C.pdf?attach=1&amp;knm=tfile.pdf\">\n",
       " <div class=\"image\"></div>\n",
       " <div class=\"desc\"><div class=\"filename\"><span class=\"name\">2022년 11월 고2 사탐_경제 문제.pdf</span></div>\n",
       " <div class=\"size\">0.49MB</div>\n",
       " </div>\n",
       " </a>,\n",
       " <a class=\"\" href=\"https://blog.kakaocdn.net/dn/cgqgwd/btrUBaaYh4N/I94LFLCKroHgDkrMzMi1Pk/2022%EB%85%84%2011%EC%9B%94%20%EA%B3%A02%20%EC%82%AC%ED%83%90_%EA%B2%BD%EC%A0%9C%20%EC%A0%95%EB%8B%B5%2C%ED%95%B4%EC%84%A4.pdf?attach=1&amp;knm=tfile.pdf\">\n",
       " <div class=\"image\"></div>\n",
       " <div class=\"desc\"><div class=\"filename\"><span class=\"name\">2022년 11월 고2 사탐_경제 정답,해설.pdf</span></div>\n",
       " <div class=\"size\">0.13MB</div>\n",
       " </div>\n",
       " </a>,\n",
       " <a class=\"\" href=\"https://blog.kakaocdn.net/dn/bj7cBU/btrUGprDHQu/jaeKeGKm4XPZygRhUcrk00/2022%EB%85%84%2011%EC%9B%94%20%EA%B3%A02%20%EC%82%AC%ED%83%90_%EB%8F%99%EC%95%84%EC%8B%9C%EC%95%84%EC%82%AC%20%EB%AC%B8%EC%A0%9C.pdf?attach=1&amp;knm=tfile.pdf\">\n",
       " <div class=\"image\"></div>\n",
       " <div class=\"desc\"><div class=\"filename\"><span class=\"name\">2022년 11월 고2 사탐_동아시아사 문제.pdf</span></div>\n",
       " <div class=\"size\">0.88MB</div>\n",
       " </div>\n",
       " </a>,\n",
       " <a class=\"\" href=\"https://blog.kakaocdn.net/dn/bMVaxL/btrUL8oEgOS/vSHMDMF80GueQeuCmAwwIK/2022%EB%85%84%2011%EC%9B%94%20%EA%B3%A02%20%EC%82%AC%ED%83%90_%EB%8F%99%EC%95%84%EC%8B%9C%EC%95%84%EC%82%AC%20%EC%A0%95%EB%8B%B5%2C%ED%95%B4%EC%84%A4.pdf?attach=1&amp;knm=tfile.pdf\">\n",
       " <div class=\"image\"></div>\n",
       " <div class=\"desc\"><div class=\"filename\"><span class=\"name\">2022년 11월 고2 사탐_동아시아사 정답,해설.pdf</span></div>\n",
       " <div class=\"size\">0.15MB</div>\n",
       " </div>\n",
       " </a>,\n",
       " <a class=\"\" href=\"https://blog.kakaocdn.net/dn/bsOWbG/btrUGHMBbso/CZrZkfGN5vnBN4Mueat571/2022%EB%85%84%2011%EC%9B%94%20%EA%B3%A02%20%EC%82%AC%ED%83%90_%EC%82%AC%ED%9A%8C%EB%AC%B8%ED%99%94%20%EB%AC%B8%EC%A0%9C.pdf?attach=1&amp;knm=tfile.pdf\">\n",
       " <div class=\"image\"></div>\n",
       " <div class=\"desc\"><div class=\"filename\"><span class=\"name\">2022년 11월 고2 사탐_사회문화 문제.pdf</span></div>\n",
       " <div class=\"size\">0.35MB</div>\n",
       " </div>\n",
       " </a>,\n",
       " <a class=\"\" href=\"https://blog.kakaocdn.net/dn/wMcCq/btrUMKgNe2W/PnmznSZrsAvxPl3c9vpQqK/2022%EB%85%84%2011%EC%9B%94%20%EA%B3%A02%20%EC%82%AC%ED%83%90_%EC%82%AC%ED%9A%8C%EB%AC%B8%ED%99%94%20%EC%A0%95%EB%8B%B5%2C%ED%95%B4%EC%84%A4.pdf?attach=1&amp;knm=tfile.pdf\">\n",
       " <div class=\"image\"></div>\n",
       " <div class=\"desc\"><div class=\"filename\"><span class=\"name\">2022년 11월 고2 사탐_사회문화 정답,해설.pdf</span></div>\n",
       " <div class=\"size\">0.13MB</div>\n",
       " </div>\n",
       " </a>,\n",
       " <a class=\"\" href=\"https://blog.kakaocdn.net/dn/lSrJj/btrULORgDtT/TZi4f9BITl5z2NWjxZAk9K/2022%EB%85%84%2011%EC%9B%94%20%EA%B3%A02%20%EC%82%AC%ED%83%90_%EC%83%9D%ED%99%9C%EA%B3%BC%EC%9C%A4%EB%A6%AC%20%EB%AC%B8%EC%A0%9C.pdf?attach=1&amp;knm=tfile.pdf\">\n",
       " <div class=\"image\"></div>\n",
       " <div class=\"desc\"><div class=\"filename\"><span class=\"name\">2022년 11월 고2 사탐_생활과윤리 문제.pdf</span></div>\n",
       " <div class=\"size\">0.49MB</div>\n",
       " </div>\n",
       " </a>,\n",
       " <a class=\"\" href=\"https://blog.kakaocdn.net/dn/mzmgm/btrUAb8M4Rg/abGFEwrGkkJjX3karHihk1/2022%EB%85%84%2011%EC%9B%94%20%EA%B3%A02%20%EC%82%AC%ED%83%90_%EC%83%9D%ED%99%9C%EA%B3%BC%EC%9C%A4%EB%A6%AC%20%EC%A0%95%EB%8B%B5%2C%ED%95%B4%EC%84%A4.pdf?attach=1&amp;knm=tfile.pdf\">\n",
       " <div class=\"image\"></div>\n",
       " <div class=\"desc\"><div class=\"filename\"><span class=\"name\">2022년 11월 고2 사탐_생활과윤리 정답,해설.pdf</span></div>\n",
       " <div class=\"size\">0.15MB</div>\n",
       " </div>\n",
       " </a>,\n",
       " <a class=\"\" href=\"https://blog.kakaocdn.net/dn/q8jUZ/btrUJiyv4r1/xXjoNaKnGKFzYKjHO2Lth0/2022%EB%85%84%2011%EC%9B%94%20%EA%B3%A02%20%EC%82%AC%ED%83%90_%EC%84%B8%EA%B3%84%EC%82%AC%20%EB%AC%B8%EC%A0%9C.pdf?attach=1&amp;knm=tfile.pdf\">\n",
       " <div class=\"image\"></div>\n",
       " <div class=\"desc\"><div class=\"filename\"><span class=\"name\">2022년 11월 고2 사탐_세계사 문제.pdf</span></div>\n",
       " <div class=\"size\">0.96MB</div>\n",
       " </div>\n",
       " </a>,\n",
       " <a class=\"\" href=\"https://blog.kakaocdn.net/dn/Idkt9/btrUGqxiKeJ/CvkJMl0kguv1lvEHpNQnD1/2022%EB%85%84%2011%EC%9B%94%20%EA%B3%A02%20%EC%82%AC%ED%83%90_%EC%84%B8%EA%B3%84%EC%82%AC%20%EC%A0%95%EB%8B%B5%2C%ED%95%B4%EC%84%A4.pdf?attach=1&amp;knm=tfile.pdf\">\n",
       " <div class=\"image\"></div>\n",
       " <div class=\"desc\"><div class=\"filename\"><span class=\"name\">2022년 11월 고2 사탐_세계사 정답,해설.pdf</span></div>\n",
       " <div class=\"size\">0.16MB</div>\n",
       " </div>\n",
       " </a>,\n",
       " <a class=\"\" href=\"https://blog.kakaocdn.net/dn/cNN3tM/btrUMO4wc4G/A3CZIkZN5D9zrRk0PqTX70/2022%EB%85%84%2011%EC%9B%94%20%EA%B3%A02%20%EC%82%AC%ED%83%90_%EC%84%B8%EA%B3%84%EC%A7%80%EB%A6%AC%20%EB%AC%B8%EC%A0%9C.pdf?attach=1&amp;knm=tfile.pdf\">\n",
       " <div class=\"image\"></div>\n",
       " <div class=\"desc\"><div class=\"filename\"><span class=\"name\">2022년 11월 고2 사탐_세계지리 문제.pdf</span></div>\n",
       " <div class=\"size\">1.46MB</div>\n",
       " </div>\n",
       " </a>,\n",
       " <a class=\"\" href=\"https://blog.kakaocdn.net/dn/cfHPTd/btrUL7pIGtZ/3oK3Lgzp4GHq1lZkqm65m0/2022%EB%85%84%2011%EC%9B%94%20%EA%B3%A02%20%EC%82%AC%ED%83%90_%EC%84%B8%EA%B3%84%EC%A7%80%EB%A6%AC%20%EC%A0%95%EB%8B%B5%2C%ED%95%B4%EC%84%A4.pdf?attach=1&amp;knm=tfile.pdf\">\n",
       " <div class=\"image\"></div>\n",
       " <div class=\"desc\"><div class=\"filename\"><span class=\"name\">2022년 11월 고2 사탐_세계지리 정답,해설.pdf</span></div>\n",
       " <div class=\"size\">0.16MB</div>\n",
       " </div>\n",
       " </a>,\n",
       " <a class=\"\" href=\"https://blog.kakaocdn.net/dn/7DEl4/btrUAbVhRIH/1FeSOqr5CHhz2NDuq1HuMK/2022%EB%85%84%2011%EC%9B%94%20%EA%B3%A02%20%EC%82%AC%ED%83%90_%EC%9C%A4%EB%A6%AC%EC%99%80%EC%82%AC%EC%83%81%20%EB%AC%B8%EC%A0%9C.pdf?attach=1&amp;knm=tfile.pdf\">\n",
       " <div class=\"image\"></div>\n",
       " <div class=\"desc\"><div class=\"filename\"><span class=\"name\">2022년 11월 고2 사탐_윤리와사상 문제.pdf</span></div>\n",
       " <div class=\"size\">0.42MB</div>\n",
       " </div>\n",
       " </a>,\n",
       " <a class=\"\" href=\"https://blog.kakaocdn.net/dn/APPto/btrUEw5DBBQ/SScLCc8c4CoFvKFCZysxBk/2022%EB%85%84%2011%EC%9B%94%20%EA%B3%A02%20%EC%82%AC%ED%83%90_%EC%9C%A4%EB%A6%AC%EC%99%80%EC%82%AC%EC%83%81%20%EC%A0%95%EB%8B%B5%2C%ED%95%B4%EC%84%A4.pdf?attach=1&amp;knm=tfile.pdf\">\n",
       " <div class=\"image\"></div>\n",
       " <div class=\"desc\"><div class=\"filename\"><span class=\"name\">2022년 11월 고2 사탐_윤리와사상 정답,해설.pdf</span></div>\n",
       " <div class=\"size\">0.17MB</div>\n",
       " </div>\n",
       " </a>,\n",
       " <a class=\"\" href=\"https://blog.kakaocdn.net/dn/DNpgP/btrUGIrcZhz/2XKQArHdBGWACI9jST5V9K/2022%EB%85%84%2011%EC%9B%94%20%EA%B3%A02%20%EC%82%AC%ED%83%90_%EC%A0%95%EC%B9%98%EC%99%80%EB%B2%95%20%EB%AC%B8%EC%A0%9C.pdf?attach=1&amp;knm=tfile.pdf\">\n",
       " <div class=\"image\"></div>\n",
       " <div class=\"desc\"><div class=\"filename\"><span class=\"name\">2022년 11월 고2 사탐_정치와법 문제.pdf</span></div>\n",
       " <div class=\"size\">0.34MB</div>\n",
       " </div>\n",
       " </a>,\n",
       " <a class=\"\" href=\"https://blog.kakaocdn.net/dn/lirks/btrUGrweQZW/1v4AcZdpXVyMFI3tXE6RD1/2022%EB%85%84%2011%EC%9B%94%20%EA%B3%A02%20%EC%82%AC%ED%83%90_%EC%A0%95%EC%B9%98%EC%99%80%EB%B2%95%20%EC%A0%95%EB%8B%B5%2C%ED%95%B4%EC%84%A4.pdf?attach=1&amp;knm=tfile.pdf\">\n",
       " <div class=\"image\"></div>\n",
       " <div class=\"desc\"><div class=\"filename\"><span class=\"name\">2022년 11월 고2 사탐_정치와법 정답,해설.pdf</span></div>\n",
       " <div class=\"size\">0.14MB</div>\n",
       " </div>\n",
       " </a>,\n",
       " <a class=\"\" href=\"https://blog.kakaocdn.net/dn/po5Ef/btrUEvyU0CU/jSCxVPrpYywxBOZrRDmB51/2022%EB%85%84%2011%EC%9B%94%20%EA%B3%A02%20%EC%82%AC%ED%83%90_%ED%95%9C%EA%B5%AD%EC%A7%80%EB%A6%AC%20%EB%AC%B8%EC%A0%9C.pdf?attach=1&amp;knm=tfile.pdf\">\n",
       " <div class=\"image\"></div>\n",
       " <div class=\"desc\"><div class=\"filename\"><span class=\"name\">2022년 11월 고2 사탐_한국지리 문제.pdf</span></div>\n",
       " <div class=\"size\">1.29MB</div>\n",
       " </div>\n",
       " </a>,\n",
       " <a class=\"\" href=\"https://blog.kakaocdn.net/dn/bd60Ai/btrUKW2257i/9nzssjk0y9W6CXnHH0uK80/2022%EB%85%84%2011%EC%9B%94%20%EA%B3%A02%20%EC%82%AC%ED%83%90_%ED%95%9C%EA%B5%AD%EC%A7%80%EB%A6%AC%20%EC%A0%95%EB%8B%B5%2C%ED%95%B4%EC%84%A4.pdf?attach=1&amp;knm=tfile.pdf\">\n",
       " <div class=\"image\"></div>\n",
       " <div class=\"desc\"><div class=\"filename\"><span class=\"name\">2022년 11월 고2 사탐_한국지리 정답,해설.pdf</span></div>\n",
       " <div class=\"size\">0.15MB</div>\n",
       " </div>\n",
       " </a>]"
      ]
     },
     "execution_count": 18,
     "metadata": {},
     "output_type": "execute_result"
    }
   ],
   "source": [
    "respond_in = requests.get(post_in)\n",
    "soup_in = BeautifulSoup(respond_in.text, \"html.parser\")\n",
    "post_in_pdf = soup_in.select(\"#jbContent > div > div.jbArticle > div.tt_article_useless_p_margin.contents_style > p > figure > a\")\n",
    "post_in_pdf"
   ]
  },
  {
   "cell_type": "code",
   "execution_count": 35,
   "metadata": {},
   "outputs": [],
   "source": [
    "# 다운 받을 수 있는 href 주소 selector Type\n",
    "#jbContent > div > div.jbArticle > div.tt_article_useless_p_margin.contents_style > p > span > a\n",
    "#jbContent > div > div.jbArticle > div.tt_article_useless_p_margin.contents_style > p > figure > a"
   ]
  },
  {
   "cell_type": "code",
   "execution_count": 11,
   "metadata": {},
   "outputs": [
    {
     "data": {
      "text/plain": [
       "'https://blog.kakaocdn.net/dn/ehzXb3/btrUMQONLIN/RYR5kHRQz60dyPnuomTGeK/2022%EB%85%84%2011%EC%9B%94%20%EA%B3%A02%20%EB%AA%A8%EC%9D%98%EA%B3%A0%EC%82%AC_%EA%B5%AD%EC%96%B4%20%EB%AC%B8%EC%A0%9C.pdf?attach=1&knm=tfile.pdf'"
      ]
     },
     "execution_count": 11,
     "metadata": {},
     "output_type": "execute_result"
    }
   ],
   "source": [
    "down_link = post_in_pdf[0].get(\"href\")\n",
    "down_link"
   ]
  },
  {
   "cell_type": "code",
   "execution_count": 12,
   "metadata": {},
   "outputs": [
    {
     "data": {
      "text/plain": [
       "'\\n\\n2022년 11월 고2 모의고사_국어 문제.pdf\\n0.57MB\\n\\n'"
      ]
     },
     "execution_count": 12,
     "metadata": {},
     "output_type": "execute_result"
    }
   ],
   "source": [
    "title = post_in_pdf[0].get_text()\n",
    "title"
   ]
  },
  {
   "cell_type": "code",
   "execution_count": 13,
   "metadata": {},
   "outputs": [
    {
     "data": {
      "text/plain": [
       "'2022년 11월 고2 모의고사_국어 문제'"
      ]
     },
     "execution_count": 13,
     "metadata": {},
     "output_type": "execute_result"
    }
   ],
   "source": [
    "title = title.strip().split('.pdf')[0]\n",
    "title"
   ]
  },
  {
   "cell_type": "code",
   "execution_count": 62,
   "metadata": {},
   "outputs": [
    {
     "name": "stdout",
     "output_type": "stream",
     "text": [
      "다운로드 완료\n",
      "\n"
     ]
    }
   ],
   "source": [
    "get_download(down_link,title,'./')"
   ]
  },
  {
   "attachments": {},
   "cell_type": "markdown",
   "metadata": {},
   "source": [
    "---"
   ]
  }
 ],
 "metadata": {
  "kernelspec": {
   "display_name": "diwork_38",
   "language": "python",
   "name": "python3"
  },
  "language_info": {
   "codemirror_mode": {
    "name": "ipython",
    "version": 3
   },
   "file_extension": ".py",
   "mimetype": "text/x-python",
   "name": "python",
   "nbconvert_exporter": "python",
   "pygments_lexer": "ipython3",
   "version": "3.8.16"
  },
  "orig_nbformat": 4
 },
 "nbformat": 4,
 "nbformat_minor": 2
}
